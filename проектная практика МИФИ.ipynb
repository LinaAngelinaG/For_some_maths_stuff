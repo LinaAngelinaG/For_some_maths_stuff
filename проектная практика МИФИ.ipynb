{
  "nbformat": 4,
  "nbformat_minor": 0,
  "metadata": {
    "colab": {
      "name": "Untitled3.ipynb",
      "provenance": []
    },
    "kernelspec": {
      "name": "python3",
      "display_name": "Python 3"
    },
    "language_info": {
      "name": "python"
    }
  },
  "cells": [
    {
      "cell_type": "markdown",
      "metadata": {
        "id": "nEXB94ulc9jy"
      },
      "source": [
        "# Загрузка данных"
      ]
    },
    {
      "cell_type": "code",
      "metadata": {
        "id": "zTAxkSUvdDxT"
      },
      "source": [
        "import numpy as np\n",
        "import pandas as pd\n",
        "from sympy import *\n",
        "from numpy import linalg as LA \n",
        "import time\n",
        "import math\n",
        "import matplotlib.pyplot as plt\n",
        "plt.style.use('seaborn-muted')"
      ],
      "execution_count": 1,
      "outputs": []
    },
    {
      "cell_type": "code",
      "metadata": {
        "colab": {
          "base_uri": "https://localhost:8080/"
        },
        "id": "f4CR7NQadJJT",
        "outputId": "0467e228-541c-4b73-f1b7-91974590a47e"
      },
      "source": [
        "from google.colab import drive \n",
        "drive.mount('/content/gdrive/')"
      ],
      "execution_count": 4,
      "outputs": [
        {
          "output_type": "stream",
          "text": [
            "Drive already mounted at /content/gdrive/; to attempt to forcibly remount, call drive.mount(\"/content/gdrive/\", force_remount=True).\n"
          ],
          "name": "stdout"
        }
      ]
    },
    {
      "cell_type": "code",
      "metadata": {
        "id": "ESeIxsuLdPRx"
      },
      "source": [
        "data_base = pd.read_excel(\"/content/gdrive/MyDrive/Ангелина Гусева данные.xls\")"
      ],
      "execution_count": 5,
      "outputs": []
    },
    {
      "cell_type": "code",
      "metadata": {
        "id": "zT0-Q1L5dVU-"
      },
      "source": [
        "Y = data_base.y\n",
        "x_cols = data_base.columns[1:]\n",
        "X = data_base[x_cols]"
      ],
      "execution_count": 6,
      "outputs": []
    },
    {
      "cell_type": "code",
      "metadata": {
        "id": "HelTT7B_gKdg"
      },
      "source": [
        "X = np.array(X)\n",
        "Y = np.reshape(np.array(Y), (289,1))"
      ],
      "execution_count": 7,
      "outputs": []
    },
    {
      "cell_type": "code",
      "metadata": {
        "id": "FxyJsgnkBc3o"
      },
      "source": [
        "def printform(a):\n",
        "  a = a*1000000//1000/1000\n",
        "  return pd.DataFrame(a)"
      ],
      "execution_count": 8,
      "outputs": []
    },
    {
      "cell_type": "markdown",
      "metadata": {
        "id": "oFnuJJuXajg6"
      },
      "source": [
        "# Метод Гаусса"
      ]
    },
    {
      "cell_type": "code",
      "metadata": {
        "id": "rxt6TpvTaqtJ"
      },
      "source": [
        "def Gauss(X, Y):\n",
        "\n",
        "    B= np.zeros((7,1))\n",
        "    \n",
        "    G = np.concatenate((X,Y), axis=1)\n",
        "\n",
        "    n ,a = np.shape(X) \n",
        "\n",
        "    for i in range(a):\n",
        "      G[i,:] /= G[i,i]\n",
        "      for j in range(n-1-i):\n",
        "        G[j+1+i,:] -= (G[i,:]*G[j+1+i,i])\n",
        "\n",
        "    X1 = np.array(G[:,0:7])\n",
        "    Y1 = np.array(G[:,7:8])\n",
        "\n",
        "    for i in range (7):\n",
        "\n",
        "        for j in range(i):\n",
        "          Y1[6-i,0]-=X1[6-i,6-j]*B[6-j]\n",
        "\n",
        "        B[6-i] = Y1[6-i,0]/X1[6-i,6-i]\n",
        "\n",
        "    return B"
      ],
      "execution_count": null,
      "outputs": []
    },
    {
      "cell_type": "code",
      "metadata": {
        "id": "yy5c2ZmVawG5"
      },
      "source": [
        "def predict_Gauss(X,B):\n",
        "  return X @ B"
      ],
      "execution_count": null,
      "outputs": []
    },
    {
      "cell_type": "code",
      "metadata": {
        "id": "r2rleb3la0c4"
      },
      "source": [
        "def measure_e_Gauss(Y,y):\n",
        "  return Y-y"
      ],
      "execution_count": null,
      "outputs": []
    },
    {
      "cell_type": "code",
      "metadata": {
        "id": "PFQ7sZYua1Cq"
      },
      "source": [
        "a1 = time.time()\n",
        "\n",
        "B_gauss = Gauss(X,Y)\n",
        "y_pred_gauss = predict_Gauss(X,B_gauss)\n",
        "E_gauss = measure_e_Gauss(Y,y_pred_gauss)\n",
        "\n",
        "TotalTime_Gauss = time.time() - a1"
      ],
      "execution_count": null,
      "outputs": []
    },
    {
      "cell_type": "code",
      "metadata": {
        "colab": {
          "base_uri": "https://localhost:8080/",
          "height": 258
        },
        "id": "vKvqiTPMa-77",
        "outputId": "3641fa66-0c1c-4f95-9a49-d06deccb833a"
      },
      "source": [
        "printform(B_gauss)"
      ],
      "execution_count": null,
      "outputs": [
        {
          "output_type": "execute_result",
          "data": {
            "text/html": [
              "<div>\n",
              "<style scoped>\n",
              "    .dataframe tbody tr th:only-of-type {\n",
              "        vertical-align: middle;\n",
              "    }\n",
              "\n",
              "    .dataframe tbody tr th {\n",
              "        vertical-align: top;\n",
              "    }\n",
              "\n",
              "    .dataframe thead th {\n",
              "        text-align: right;\n",
              "    }\n",
              "</style>\n",
              "<table border=\"1\" class=\"dataframe\">\n",
              "  <thead>\n",
              "    <tr style=\"text-align: right;\">\n",
              "      <th></th>\n",
              "      <th>0</th>\n",
              "    </tr>\n",
              "  </thead>\n",
              "  <tbody>\n",
              "    <tr>\n",
              "      <th>0</th>\n",
              "      <td>-216995.899</td>\n",
              "    </tr>\n",
              "    <tr>\n",
              "      <th>1</th>\n",
              "      <td>217304.514</td>\n",
              "    </tr>\n",
              "    <tr>\n",
              "      <th>2</th>\n",
              "      <td>12859.126</td>\n",
              "    </tr>\n",
              "    <tr>\n",
              "      <th>3</th>\n",
              "      <td>-5501.319</td>\n",
              "    </tr>\n",
              "    <tr>\n",
              "      <th>4</th>\n",
              "      <td>-14884.505</td>\n",
              "    </tr>\n",
              "    <tr>\n",
              "      <th>5</th>\n",
              "      <td>3139.348</td>\n",
              "    </tr>\n",
              "    <tr>\n",
              "      <th>6</th>\n",
              "      <td>7939.506</td>\n",
              "    </tr>\n",
              "  </tbody>\n",
              "</table>\n",
              "</div>"
            ],
            "text/plain": [
              "            0\n",
              "0 -216995.899\n",
              "1  217304.514\n",
              "2   12859.126\n",
              "3   -5501.319\n",
              "4  -14884.505\n",
              "5    3139.348\n",
              "6    7939.506"
            ]
          },
          "metadata": {
            "tags": []
          },
          "execution_count": 15
        }
      ]
    },
    {
      "cell_type": "code",
      "metadata": {
        "colab": {
          "base_uri": "https://localhost:8080/",
          "height": 408
        },
        "id": "JmeZnGSFlZyT",
        "outputId": "fb923b98-bd28-4b32-a0a8-fcf9b449a28c"
      },
      "source": [
        "printform(E_gauss)"
      ],
      "execution_count": null,
      "outputs": [
        {
          "output_type": "execute_result",
          "data": {
            "text/html": [
              "<div>\n",
              "<style scoped>\n",
              "    .dataframe tbody tr th:only-of-type {\n",
              "        vertical-align: middle;\n",
              "    }\n",
              "\n",
              "    .dataframe tbody tr th {\n",
              "        vertical-align: top;\n",
              "    }\n",
              "\n",
              "    .dataframe thead th {\n",
              "        text-align: right;\n",
              "    }\n",
              "</style>\n",
              "<table border=\"1\" class=\"dataframe\">\n",
              "  <thead>\n",
              "    <tr style=\"text-align: right;\">\n",
              "      <th></th>\n",
              "      <th>0</th>\n",
              "    </tr>\n",
              "  </thead>\n",
              "  <tbody>\n",
              "    <tr>\n",
              "      <th>0</th>\n",
              "      <td>-0.001</td>\n",
              "    </tr>\n",
              "    <tr>\n",
              "      <th>1</th>\n",
              "      <td>-0.001</td>\n",
              "    </tr>\n",
              "    <tr>\n",
              "      <th>2</th>\n",
              "      <td>-0.001</td>\n",
              "    </tr>\n",
              "    <tr>\n",
              "      <th>3</th>\n",
              "      <td>-0.001</td>\n",
              "    </tr>\n",
              "    <tr>\n",
              "      <th>4</th>\n",
              "      <td>-0.001</td>\n",
              "    </tr>\n",
              "    <tr>\n",
              "      <th>...</th>\n",
              "      <td>...</td>\n",
              "    </tr>\n",
              "    <tr>\n",
              "      <th>284</th>\n",
              "      <td>7804.128</td>\n",
              "    </tr>\n",
              "    <tr>\n",
              "      <th>285</th>\n",
              "      <td>7847.488</td>\n",
              "    </tr>\n",
              "    <tr>\n",
              "      <th>286</th>\n",
              "      <td>7911.451</td>\n",
              "    </tr>\n",
              "    <tr>\n",
              "      <th>287</th>\n",
              "      <td>7915.583</td>\n",
              "    </tr>\n",
              "    <tr>\n",
              "      <th>288</th>\n",
              "      <td>7957.568</td>\n",
              "    </tr>\n",
              "  </tbody>\n",
              "</table>\n",
              "<p>289 rows × 1 columns</p>\n",
              "</div>"
            ],
            "text/plain": [
              "            0\n",
              "0      -0.001\n",
              "1      -0.001\n",
              "2      -0.001\n",
              "3      -0.001\n",
              "4      -0.001\n",
              "..        ...\n",
              "284  7804.128\n",
              "285  7847.488\n",
              "286  7911.451\n",
              "287  7915.583\n",
              "288  7957.568\n",
              "\n",
              "[289 rows x 1 columns]"
            ]
          },
          "metadata": {
            "tags": []
          },
          "execution_count": 16
        }
      ]
    },
    {
      "cell_type": "code",
      "metadata": {
        "colab": {
          "base_uri": "https://localhost:8080/"
        },
        "id": "HOE3DJw4ljZ2",
        "outputId": "e4ad7d77-70af-438b-ccb5-b7963efea4fe"
      },
      "source": [
        "print(\"Time = \", TotalTime_Gauss)"
      ],
      "execution_count": null,
      "outputs": [
        {
          "output_type": "stream",
          "text": [
            "Time =  0.011199235916137695\n"
          ],
          "name": "stdout"
        }
      ]
    },
    {
      "cell_type": "markdown",
      "metadata": {
        "id": "PXj1kmQpbTvQ"
      },
      "source": [
        "# Метод Грамма-Шмидта"
      ]
    },
    {
      "cell_type": "code",
      "metadata": {
        "id": "gm30ObkNbXXB"
      },
      "source": [
        "def Shmidt(X,Y):\n",
        "\n",
        "  n, a = np.shape(X)\n",
        "  X_ort = np.zeros((n,a))\n",
        "  \n",
        "  for i in range(n):\n",
        "    X_ort[i,:] = X[i,:] \n",
        "    for j in range(i):\n",
        "      X_ort[i,:] -= (X[i,:] @ np.transpose(X_ort[j,:])) /(X_ort[j,:] @ np.transpose(X_ort[j,:])) *X_ort[j,:]\n",
        "\n",
        "    X_ort[i,:]/=np.sqrt(X_ort[i,:]@ np.transpose(X_ort[i,:]))\n",
        "\n",
        "  B = np.dot(np.transpose(X_ort),Y)\n",
        "\n",
        "  return B"
      ],
      "execution_count": null,
      "outputs": []
    },
    {
      "cell_type": "code",
      "metadata": {
        "id": "ip83-Bhfbati"
      },
      "source": [
        "def predict_y_Shmidt(X,B):\n",
        "  return X @ B"
      ],
      "execution_count": null,
      "outputs": []
    },
    {
      "cell_type": "code",
      "metadata": {
        "id": "1cU4xs0SbdtB"
      },
      "source": [
        "def e_measure_Shmidt(Y,y):\n",
        "  return Y-y"
      ],
      "execution_count": null,
      "outputs": []
    },
    {
      "cell_type": "code",
      "metadata": {
        "id": "R1uNbjv4bdwe"
      },
      "source": [
        "a1 = time.time()\n",
        "\n",
        "B_shmidt = Shmidt(X,Y)\n",
        "y_pred_shmidt = predict_y_Shmidt(X,B_shmidt)\n",
        "E_shmidt = e_measure_Shmidt(Y,y_pred_shmidt)\n",
        "\n",
        "a2 = time.time()\n",
        "\n",
        "TotalTime_Shmidt = a2 - a1"
      ],
      "execution_count": null,
      "outputs": []
    },
    {
      "cell_type": "code",
      "metadata": {
        "colab": {
          "base_uri": "https://localhost:8080/",
          "height": 258
        },
        "id": "7htjOlqEbiLY",
        "outputId": "55455a8f-eda2-41b0-f298-d13730d21fe6"
      },
      "source": [
        "printform(B_shmidt)"
      ],
      "execution_count": null,
      "outputs": [
        {
          "output_type": "execute_result",
          "data": {
            "text/html": [
              "<div>\n",
              "<style scoped>\n",
              "    .dataframe tbody tr th:only-of-type {\n",
              "        vertical-align: middle;\n",
              "    }\n",
              "\n",
              "    .dataframe tbody tr th {\n",
              "        vertical-align: top;\n",
              "    }\n",
              "\n",
              "    .dataframe thead th {\n",
              "        text-align: right;\n",
              "    }\n",
              "</style>\n",
              "<table border=\"1\" class=\"dataframe\">\n",
              "  <thead>\n",
              "    <tr style=\"text-align: right;\">\n",
              "      <th></th>\n",
              "      <th>0</th>\n",
              "    </tr>\n",
              "  </thead>\n",
              "  <tbody>\n",
              "    <tr>\n",
              "      <th>0</th>\n",
              "      <td>-54060.222</td>\n",
              "    </tr>\n",
              "    <tr>\n",
              "      <th>1</th>\n",
              "      <td>247258.241</td>\n",
              "    </tr>\n",
              "    <tr>\n",
              "      <th>2</th>\n",
              "      <td>1022795.143</td>\n",
              "    </tr>\n",
              "    <tr>\n",
              "      <th>3</th>\n",
              "      <td>-930445.355</td>\n",
              "    </tr>\n",
              "    <tr>\n",
              "      <th>4</th>\n",
              "      <td>48532.195</td>\n",
              "    </tr>\n",
              "    <tr>\n",
              "      <th>5</th>\n",
              "      <td>-227476.694</td>\n",
              "    </tr>\n",
              "    <tr>\n",
              "      <th>6</th>\n",
              "      <td>-154325.775</td>\n",
              "    </tr>\n",
              "  </tbody>\n",
              "</table>\n",
              "</div>"
            ],
            "text/plain": [
              "             0\n",
              "0   -54060.222\n",
              "1   247258.241\n",
              "2  1022795.143\n",
              "3  -930445.355\n",
              "4    48532.195\n",
              "5  -227476.694\n",
              "6  -154325.775"
            ]
          },
          "metadata": {
            "tags": []
          },
          "execution_count": 64
        }
      ]
    },
    {
      "cell_type": "code",
      "metadata": {
        "colab": {
          "base_uri": "https://localhost:8080/",
          "height": 408
        },
        "id": "d_AWw31fCXD0",
        "outputId": "e9efef92-907a-44ea-9c0b-30baa60e0568"
      },
      "source": [
        "printform(E_shmidt)"
      ],
      "execution_count": null,
      "outputs": [
        {
          "output_type": "execute_result",
          "data": {
            "text/html": [
              "<div>\n",
              "<style scoped>\n",
              "    .dataframe tbody tr th:only-of-type {\n",
              "        vertical-align: middle;\n",
              "    }\n",
              "\n",
              "    .dataframe tbody tr th {\n",
              "        vertical-align: top;\n",
              "    }\n",
              "\n",
              "    .dataframe thead th {\n",
              "        text-align: right;\n",
              "    }\n",
              "</style>\n",
              "<table border=\"1\" class=\"dataframe\">\n",
              "  <thead>\n",
              "    <tr style=\"text-align: right;\">\n",
              "      <th></th>\n",
              "      <th>0</th>\n",
              "    </tr>\n",
              "  </thead>\n",
              "  <tbody>\n",
              "    <tr>\n",
              "      <th>0</th>\n",
              "      <td>-254.902</td>\n",
              "    </tr>\n",
              "    <tr>\n",
              "      <th>1</th>\n",
              "      <td>-224.866</td>\n",
              "    </tr>\n",
              "    <tr>\n",
              "      <th>2</th>\n",
              "      <td>-139.724</td>\n",
              "    </tr>\n",
              "    <tr>\n",
              "      <th>3</th>\n",
              "      <td>-253.173</td>\n",
              "    </tr>\n",
              "    <tr>\n",
              "      <th>4</th>\n",
              "      <td>-263.607</td>\n",
              "    </tr>\n",
              "    <tr>\n",
              "      <th>...</th>\n",
              "      <td>...</td>\n",
              "    </tr>\n",
              "    <tr>\n",
              "      <th>284</th>\n",
              "      <td>11320.698</td>\n",
              "    </tr>\n",
              "    <tr>\n",
              "      <th>285</th>\n",
              "      <td>12210.784</td>\n",
              "    </tr>\n",
              "    <tr>\n",
              "      <th>286</th>\n",
              "      <td>13801.737</td>\n",
              "    </tr>\n",
              "    <tr>\n",
              "      <th>287</th>\n",
              "      <td>13187.496</td>\n",
              "    </tr>\n",
              "    <tr>\n",
              "      <th>288</th>\n",
              "      <td>9734.879</td>\n",
              "    </tr>\n",
              "  </tbody>\n",
              "</table>\n",
              "<p>289 rows × 1 columns</p>\n",
              "</div>"
            ],
            "text/plain": [
              "             0\n",
              "0     -254.902\n",
              "1     -224.866\n",
              "2     -139.724\n",
              "3     -253.173\n",
              "4     -263.607\n",
              "..         ...\n",
              "284  11320.698\n",
              "285  12210.784\n",
              "286  13801.737\n",
              "287  13187.496\n",
              "288   9734.879\n",
              "\n",
              "[289 rows x 1 columns]"
            ]
          },
          "metadata": {
            "tags": []
          },
          "execution_count": 65
        }
      ]
    },
    {
      "cell_type": "code",
      "metadata": {
        "colab": {
          "base_uri": "https://localhost:8080/"
        },
        "id": "OGMq8CsBCYjZ",
        "outputId": "374c787e-4ca7-4e71-b701-59bf7659b7a6"
      },
      "source": [
        "print(\"Time = \", TotalTime_Shmidt)"
      ],
      "execution_count": null,
      "outputs": [
        {
          "output_type": "stream",
          "text": [
            "Time =  0.4050412178039551\n"
          ],
          "name": "stdout"
        }
      ]
    },
    {
      "cell_type": "markdown",
      "metadata": {
        "id": "GVAR0I-8buhz"
      },
      "source": [
        "# Метод наименьших квадратов"
      ]
    },
    {
      "cell_type": "code",
      "metadata": {
        "id": "2KYBIAOeb1XO"
      },
      "source": [
        "def MSE (X,Y):\n",
        "  x = np.hstack((np.ones((X.shape[0],1)), X))\n",
        "  x_trans = np.transpose(x)\n",
        "  x_mult = LA.pinv(x_trans @ x)\n",
        "  return (x_mult @ x_trans @ Y)"
      ],
      "execution_count": null,
      "outputs": []
    },
    {
      "cell_type": "code",
      "metadata": {
        "id": "QUN6p-bsb5iZ"
      },
      "source": [
        "def y_predict_mse (B, X):\n",
        "  x = np.hstack((np.ones((X.shape[0],1)), X))\n",
        "  return (x @ B) "
      ],
      "execution_count": null,
      "outputs": []
    },
    {
      "cell_type": "code",
      "metadata": {
        "id": "k08vVJd4b6SA"
      },
      "source": [
        "def measure_e_mse (Y,y):\n",
        "  return (Y-y)"
      ],
      "execution_count": null,
      "outputs": []
    },
    {
      "cell_type": "code",
      "metadata": {
        "id": "B_1QOb30b8J1"
      },
      "source": [
        "a1 = time.time()\n",
        "\n",
        "B_mse = MSE(X,Y)\n",
        "y_pred_mse = y_predict_mse(B_mse,X)\n",
        "E_mse = measure_e_mse(Y,y_pred_mse)\n",
        "\n",
        "a2 = time.time()\n",
        "\n",
        "TotalTime_MSE = a2 - a1"
      ],
      "execution_count": null,
      "outputs": []
    },
    {
      "cell_type": "code",
      "metadata": {
        "id": "m9QgVlz1b-mi",
        "colab": {
          "base_uri": "https://localhost:8080/",
          "height": 288
        },
        "outputId": "0bd5599f-a490-40f6-b839-1e27d094a91c"
      },
      "source": [
        "printform(B_mse)"
      ],
      "execution_count": null,
      "outputs": [
        {
          "output_type": "execute_result",
          "data": {
            "text/html": [
              "<div>\n",
              "<style scoped>\n",
              "    .dataframe tbody tr th:only-of-type {\n",
              "        vertical-align: middle;\n",
              "    }\n",
              "\n",
              "    .dataframe tbody tr th {\n",
              "        vertical-align: top;\n",
              "    }\n",
              "\n",
              "    .dataframe thead th {\n",
              "        text-align: right;\n",
              "    }\n",
              "</style>\n",
              "<table border=\"1\" class=\"dataframe\">\n",
              "  <thead>\n",
              "    <tr style=\"text-align: right;\">\n",
              "      <th></th>\n",
              "      <th>0</th>\n",
              "    </tr>\n",
              "  </thead>\n",
              "  <tbody>\n",
              "    <tr>\n",
              "      <th>0</th>\n",
              "      <td>298127.902</td>\n",
              "    </tr>\n",
              "    <tr>\n",
              "      <th>1</th>\n",
              "      <td>-8506949.069</td>\n",
              "    </tr>\n",
              "    <tr>\n",
              "      <th>2</th>\n",
              "      <td>8463719.290</td>\n",
              "    </tr>\n",
              "    <tr>\n",
              "      <th>3</th>\n",
              "      <td>-76226.112</td>\n",
              "    </tr>\n",
              "    <tr>\n",
              "      <th>4</th>\n",
              "      <td>110623.422</td>\n",
              "    </tr>\n",
              "    <tr>\n",
              "      <th>5</th>\n",
              "      <td>-114878.910</td>\n",
              "    </tr>\n",
              "    <tr>\n",
              "      <th>6</th>\n",
              "      <td>-91467.469</td>\n",
              "    </tr>\n",
              "    <tr>\n",
              "      <th>7</th>\n",
              "      <td>-453896.868</td>\n",
              "    </tr>\n",
              "  </tbody>\n",
              "</table>\n",
              "</div>"
            ],
            "text/plain": [
              "             0\n",
              "0   298127.902\n",
              "1 -8506949.069\n",
              "2  8463719.290\n",
              "3   -76226.112\n",
              "4   110623.422\n",
              "5  -114878.910\n",
              "6   -91467.469\n",
              "7  -453896.868"
            ]
          },
          "metadata": {
            "tags": []
          },
          "execution_count": 46
        }
      ]
    },
    {
      "cell_type": "code",
      "metadata": {
        "colab": {
          "base_uri": "https://localhost:8080/",
          "height": 408
        },
        "id": "XXqkGUhVCytB",
        "outputId": "712a7a0c-25b4-4895-bd72-81a16334ae08"
      },
      "source": [
        "printform(E_mse)"
      ],
      "execution_count": null,
      "outputs": [
        {
          "output_type": "execute_result",
          "data": {
            "text/html": [
              "<div>\n",
              "<style scoped>\n",
              "    .dataframe tbody tr th:only-of-type {\n",
              "        vertical-align: middle;\n",
              "    }\n",
              "\n",
              "    .dataframe tbody tr th {\n",
              "        vertical-align: top;\n",
              "    }\n",
              "\n",
              "    .dataframe thead th {\n",
              "        text-align: right;\n",
              "    }\n",
              "</style>\n",
              "<table border=\"1\" class=\"dataframe\">\n",
              "  <thead>\n",
              "    <tr style=\"text-align: right;\">\n",
              "      <th></th>\n",
              "      <th>0</th>\n",
              "    </tr>\n",
              "  </thead>\n",
              "  <tbody>\n",
              "    <tr>\n",
              "      <th>0</th>\n",
              "      <td>3325.854</td>\n",
              "    </tr>\n",
              "    <tr>\n",
              "      <th>1</th>\n",
              "      <td>2403.339</td>\n",
              "    </tr>\n",
              "    <tr>\n",
              "      <th>2</th>\n",
              "      <td>3114.706</td>\n",
              "    </tr>\n",
              "    <tr>\n",
              "      <th>3</th>\n",
              "      <td>2699.197</td>\n",
              "    </tr>\n",
              "    <tr>\n",
              "      <th>4</th>\n",
              "      <td>2486.965</td>\n",
              "    </tr>\n",
              "    <tr>\n",
              "      <th>...</th>\n",
              "      <td>...</td>\n",
              "    </tr>\n",
              "    <tr>\n",
              "      <th>284</th>\n",
              "      <td>2240.794</td>\n",
              "    </tr>\n",
              "    <tr>\n",
              "      <th>285</th>\n",
              "      <td>1695.855</td>\n",
              "    </tr>\n",
              "    <tr>\n",
              "      <th>286</th>\n",
              "      <td>1684.255</td>\n",
              "    </tr>\n",
              "    <tr>\n",
              "      <th>287</th>\n",
              "      <td>791.201</td>\n",
              "    </tr>\n",
              "    <tr>\n",
              "      <th>288</th>\n",
              "      <td>1708.373</td>\n",
              "    </tr>\n",
              "  </tbody>\n",
              "</table>\n",
              "<p>289 rows × 1 columns</p>\n",
              "</div>"
            ],
            "text/plain": [
              "            0\n",
              "0    3325.854\n",
              "1    2403.339\n",
              "2    3114.706\n",
              "3    2699.197\n",
              "4    2486.965\n",
              "..        ...\n",
              "284  2240.794\n",
              "285  1695.855\n",
              "286  1684.255\n",
              "287   791.201\n",
              "288  1708.373\n",
              "\n",
              "[289 rows x 1 columns]"
            ]
          },
          "metadata": {
            "tags": []
          },
          "execution_count": 47
        }
      ]
    },
    {
      "cell_type": "code",
      "metadata": {
        "colab": {
          "base_uri": "https://localhost:8080/"
        },
        "id": "1vcLvX9-C1LA",
        "outputId": "e572f429-f773-408c-c23b-619a05cce186"
      },
      "source": [
        "print(\"Time = \", TotalTime_MSE)"
      ],
      "execution_count": null,
      "outputs": [
        {
          "output_type": "stream",
          "text": [
            "Time =  0.0008356571197509766\n"
          ],
          "name": "stdout"
        }
      ]
    },
    {
      "cell_type": "markdown",
      "metadata": {
        "id": "41daDz49cKSe"
      },
      "source": [
        "# Метод Хаусхолдера"
      ]
    },
    {
      "cell_type": "code",
      "metadata": {
        "id": "vzARGJTDcNyr"
      },
      "source": [
        "def HouseHold(X,Y):\n",
        "  E = np.eye(289)\n",
        "  '''t = np.zeros((289,7))\n",
        "  E = np.concatenate((E,t))'''\n",
        "  B= np.zeros((7,1))\n",
        "  for i in range(1,8):\n",
        "    \n",
        "    z = X[i-1:,i-1]  \n",
        "    \n",
        "    z = np.concatenate((E[0:i-1,i-1],z))\n",
        "\n",
        "    e = E[:,i-1]\n",
        "    a_abs = sqrt(np.dot(z,z))\n",
        "    a = a_abs * math.cos(np.dot(z,e)/a_abs - math.pi)\n",
        "\n",
        "    r = sqrt(2*a_abs*a_abs + 2*a_abs*np.dot(z,e))\n",
        "\n",
        "    w = (z - a*e)/r\n",
        "\n",
        "    U = E - 2 * w @ np.transpose(w)\n",
        "\n",
        "    Y = U @ Y\n",
        "    X = U @ X\n",
        "\n",
        "  for i in range (6,-1):\n",
        "\n",
        "    for j in range(6,i):\n",
        "      Y[i]-=X[i,j]*B[j]\n",
        "\n",
        "    B[i] = Y[i]/X[i,i]\n",
        "\n",
        "  return B"
      ],
      "execution_count": 23,
      "outputs": []
    },
    {
      "cell_type": "code",
      "metadata": {
        "id": "ZkaR6hYYcRtN"
      },
      "source": [
        "def predict_hh (X,B):\n",
        "  return (X @ B)"
      ],
      "execution_count": 24,
      "outputs": []
    },
    {
      "cell_type": "code",
      "metadata": {
        "id": "X4PqRJyrcToW"
      },
      "source": [
        "def measure_e_hh (Y,y):\n",
        "  return (Y-y)"
      ],
      "execution_count": 25,
      "outputs": []
    },
    {
      "cell_type": "code",
      "metadata": {
        "id": "C1S_WfPHcVgC",
        "colab": {
          "base_uri": "https://localhost:8080/"
        },
        "outputId": "f0a83c62-2920-43e4-ca71-9b364c7f73e2"
      },
      "source": [
        "a1 = time.time()\n",
        "\n",
        "B_hh = HouseHold(X,Y)\n",
        "y_pred_hh = predict_hh(X,B_hh)\n",
        "E_hh = measure_e_hh(Y,y_pred_hh)\n",
        "\n",
        "a2 = time.time()\n",
        "\n",
        "TotalTime_HH = a2 - a1"
      ],
      "execution_count": 26,
      "outputs": [
        {
          "output_type": "stream",
          "text": [
            "(289, 289) (289, 7)\n",
            "(289, 289) (289, 7)\n",
            "(289, 289) (289, 7)\n",
            "(289, 289) (289, 7)\n",
            "(289, 289) (289, 7)\n",
            "(289, 289) (289, 7)\n",
            "(289, 289) (289, 7)\n"
          ],
          "name": "stdout"
        }
      ]
    },
    {
      "cell_type": "code",
      "metadata": {
        "id": "YCwJjMYgcVjZ",
        "colab": {
          "base_uri": "https://localhost:8080/",
          "height": 265
        },
        "outputId": "cc888208-e40e-41f8-ae48-508f44849eea"
      },
      "source": [
        "printform(B_hh)"
      ],
      "execution_count": 31,
      "outputs": [
        {
          "output_type": "execute_result",
          "data": {
            "text/html": [
              "<div>\n",
              "<style scoped>\n",
              "    .dataframe tbody tr th:only-of-type {\n",
              "        vertical-align: middle;\n",
              "    }\n",
              "\n",
              "    .dataframe tbody tr th {\n",
              "        vertical-align: top;\n",
              "    }\n",
              "\n",
              "    .dataframe thead th {\n",
              "        text-align: right;\n",
              "    }\n",
              "</style>\n",
              "<table border=\"1\" class=\"dataframe\">\n",
              "  <thead>\n",
              "    <tr style=\"text-align: right;\">\n",
              "      <th></th>\n",
              "      <th>0</th>\n",
              "    </tr>\n",
              "  </thead>\n",
              "  <tbody>\n",
              "    <tr>\n",
              "      <th>0</th>\n",
              "      <td>0.0</td>\n",
              "    </tr>\n",
              "    <tr>\n",
              "      <th>1</th>\n",
              "      <td>0.0</td>\n",
              "    </tr>\n",
              "    <tr>\n",
              "      <th>2</th>\n",
              "      <td>0.0</td>\n",
              "    </tr>\n",
              "    <tr>\n",
              "      <th>3</th>\n",
              "      <td>0.0</td>\n",
              "    </tr>\n",
              "    <tr>\n",
              "      <th>4</th>\n",
              "      <td>0.0</td>\n",
              "    </tr>\n",
              "    <tr>\n",
              "      <th>5</th>\n",
              "      <td>0.0</td>\n",
              "    </tr>\n",
              "    <tr>\n",
              "      <th>6</th>\n",
              "      <td>0.0</td>\n",
              "    </tr>\n",
              "  </tbody>\n",
              "</table>\n",
              "</div>"
            ],
            "text/plain": [
              "     0\n",
              "0  0.0\n",
              "1  0.0\n",
              "2  0.0\n",
              "3  0.0\n",
              "4  0.0\n",
              "5  0.0\n",
              "6  0.0"
            ]
          },
          "metadata": {
            "tags": []
          },
          "execution_count": 31
        }
      ]
    },
    {
      "cell_type": "code",
      "metadata": {
        "id": "9hqN07n_NNYP",
        "colab": {
          "base_uri": "https://localhost:8080/",
          "height": 417
        },
        "outputId": "d537fb34-08e3-4e4c-ab72-38eb72a60eef"
      },
      "source": [
        "printform(E_hh)"
      ],
      "execution_count": 32,
      "outputs": [
        {
          "output_type": "execute_result",
          "data": {
            "text/html": [
              "<div>\n",
              "<style scoped>\n",
              "    .dataframe tbody tr th:only-of-type {\n",
              "        vertical-align: middle;\n",
              "    }\n",
              "\n",
              "    .dataframe tbody tr th {\n",
              "        vertical-align: top;\n",
              "    }\n",
              "\n",
              "    .dataframe thead th {\n",
              "        text-align: right;\n",
              "    }\n",
              "</style>\n",
              "<table border=\"1\" class=\"dataframe\">\n",
              "  <thead>\n",
              "    <tr style=\"text-align: right;\">\n",
              "      <th></th>\n",
              "      <th>0</th>\n",
              "    </tr>\n",
              "  </thead>\n",
              "  <tbody>\n",
              "    <tr>\n",
              "      <th>0</th>\n",
              "      <td>768.0</td>\n",
              "    </tr>\n",
              "    <tr>\n",
              "      <th>1</th>\n",
              "      <td>800.0</td>\n",
              "    </tr>\n",
              "    <tr>\n",
              "      <th>2</th>\n",
              "      <td>832.0</td>\n",
              "    </tr>\n",
              "    <tr>\n",
              "      <th>3</th>\n",
              "      <td>864.0</td>\n",
              "    </tr>\n",
              "    <tr>\n",
              "      <th>4</th>\n",
              "      <td>896.0</td>\n",
              "    </tr>\n",
              "    <tr>\n",
              "      <th>...</th>\n",
              "      <td>...</td>\n",
              "    </tr>\n",
              "    <tr>\n",
              "      <th>284</th>\n",
              "      <td>9856.0</td>\n",
              "    </tr>\n",
              "    <tr>\n",
              "      <th>285</th>\n",
              "      <td>9888.0</td>\n",
              "    </tr>\n",
              "    <tr>\n",
              "      <th>286</th>\n",
              "      <td>9920.0</td>\n",
              "    </tr>\n",
              "    <tr>\n",
              "      <th>287</th>\n",
              "      <td>9952.0</td>\n",
              "    </tr>\n",
              "    <tr>\n",
              "      <th>288</th>\n",
              "      <td>9984.0</td>\n",
              "    </tr>\n",
              "  </tbody>\n",
              "</table>\n",
              "<p>289 rows × 1 columns</p>\n",
              "</div>"
            ],
            "text/plain": [
              "          0\n",
              "0     768.0\n",
              "1     800.0\n",
              "2     832.0\n",
              "3     864.0\n",
              "4     896.0\n",
              "..      ...\n",
              "284  9856.0\n",
              "285  9888.0\n",
              "286  9920.0\n",
              "287  9952.0\n",
              "288  9984.0\n",
              "\n",
              "[289 rows x 1 columns]"
            ]
          },
          "metadata": {
            "tags": []
          },
          "execution_count": 32
        }
      ]
    },
    {
      "cell_type": "code",
      "metadata": {
        "id": "cACpl2uVNRJr",
        "colab": {
          "base_uri": "https://localhost:8080/"
        },
        "outputId": "f0bbe003-2d91-4d79-faf0-e05f04fbca3a"
      },
      "source": [
        "print(\"Time = \", TotalTime_HH)"
      ],
      "execution_count": 29,
      "outputs": [
        {
          "output_type": "stream",
          "text": [
            "Time =  103.16750049591064\n"
          ],
          "name": "stdout"
        }
      ]
    },
    {
      "cell_type": "markdown",
      "metadata": {
        "id": "uRnqaVt7QcPM"
      },
      "source": [
        "# Таким образом, мы видим, что метод наименьших квадратов оказался эффективнее всех остальных методов по времени. Его и будем использовать при построении линейной регрессии."
      ]
    },
    {
      "cell_type": "markdown",
      "metadata": {
        "id": "RCp1tMNiddBq"
      },
      "source": [
        "# Регрессия X на Y\n",
        "\n",
        "\n"
      ]
    },
    {
      "cell_type": "markdown",
      "metadata": {
        "id": "LeR0Fm39Z9-m"
      },
      "source": [
        "Посмотрим просто на то, как устроены данные. Возможно, увидим зависимости."
      ]
    },
    {
      "cell_type": "code",
      "metadata": {
        "id": "yaoRm3BjdfTn",
        "colab": {
          "base_uri": "https://localhost:8080/",
          "height": 287
        },
        "outputId": "ecb5e82f-5105-49c6-9194-b59eb2c926d8"
      },
      "source": [
        "fig,ax = plt.subplots(2,4,figsize=(35,10))\n",
        "\n",
        "for column,a in zip(x_cols, ax.reshape(-1)):\n",
        "  a.set(title = f'Зависимость Y от {column}' , ylabel = 'Y', xlabel = column)\n",
        "  a.scatter(data_base[column], data_base.y, color=(time.time()*9%0.99,time.time()*895%0.99,time.time()*95%0.99))\n",
        "\n",
        "ax[1,3].remove()"
      ],
      "execution_count": 9,
      "outputs": [
        {
          "output_type": "display_data",
          "data": {
            "image/png": "[encoded data removed]",
            "text/plain": [
              "<Figure size 2520x720 with 7 Axes>"
            ]
          },
          "metadata": {
            "tags": [],
            "needs_background": "light"
          }
        }
      ]
    },
    {
      "cell_type": "markdown",
      "metadata": {
        "id": "Y7bRFgxeaHtg"
      },
      "source": [
        "Зависимость y от x5 явно видна, зависимость от остальных переменных сомнительна. \n"
      ]
    },
    {
      "cell_type": "markdown",
      "metadata": {
        "id": "p-BMVBaKa-2X"
      },
      "source": [
        "Построим регрессию с помощью градиентного спуска. В качестве функции потерь используем mse. Будем использовать генератор бачей, чтобы \"учиться\" на группах данных."
      ]
    },
    {
      "cell_type": "code",
      "metadata": {
        "id": "rwFbsAB8a-Lq"
      },
      "source": [
        "def generate_batches(X, y, batch_size):\n",
        "    assert len(X) == len(y)\n",
        "    np.random.seed(42)\n",
        "    X = np.array(X)\n",
        "    y = np.array(y)\n",
        "    perm = np.random.permutation(len(X))\n",
        "    for i in range(len(X)//batch_size):\n",
        "        X_batch = X[perm[i*batch_size:(i+1)*batch_size]]\n",
        "        y_batch = y[perm[i*batch_size:(i+1)*batch_size]]\n",
        "            \n",
        "        yield (X_batch,y_batch)"
      ],
      "execution_count": 10,
      "outputs": []
    },
    {
      "cell_type": "code",
      "metadata": {
        "id": "chrP7Ue3g89H"
      },
      "source": [
        "class MyRegression(object):\n",
        "    def __init__(self):\n",
        "        self.w = None\n",
        "    \n",
        "    def fit(self, X, y, epochs=10, lr=0.1, batch_size=17):\n",
        "        n, k = X.shape        \n",
        "        if self.w is None:\n",
        "            np.random.seed(42)\n",
        "            self.w = np.random.randn(k + 1)\n",
        "            np.resize(self.w,(8,1))\n",
        "            self.w = self.w.reshape(8,1)\n",
        "\n",
        "        X_train = np.concatenate((np.ones((n, 1)), X), axis=1)\n",
        "        \n",
        "\n",
        "        losses = []\n",
        "        epoch=0\n",
        "        while epoch < epochs:\n",
        "            for X_, y_ in generate_batches(X_train, y, batch_size):\n",
        "                pred = X_ @ self.w\n",
        "                self.w -= lr * self.get_grad(X_, y_, pred)\n",
        "                losses.append(self.__loss(y_, pred))\n",
        "            epoch += 1 \n",
        "        return losses\n",
        "\n",
        "    \n",
        "    def get_grad(self, X_batch, y_batch, predictions):\n",
        "        wc = np.copy(self.w)\n",
        "        wc[0] = 0\n",
        "        grad = X_batch.T @ (predictions - y_batch)\n",
        "        \n",
        "        return grad\n",
        "\n",
        "    def get_weights(self):\n",
        "        return self.w\n",
        "\n",
        "    def __loss(self, y, p):  \n",
        "        p = np.clip(p, 1e-10, 1 - 1e-10)\n",
        "        return -np.mean(y * np.log(p) + (1 - y) * np.log(1 - p))"
      ],
      "execution_count": 41,
      "outputs": []
    },
    {
      "cell_type": "code",
      "metadata": {
        "id": "UQW2H5EEh1D_"
      },
      "source": [
        "reg = MyRegression()\n",
        "reg.fit(X, Y, epochs=10)\n",
        "w = reg.get_weights()"
      ],
      "execution_count": 42,
      "outputs": []
    },
    {
      "cell_type": "markdown",
      "metadata": {
        "id": "nuAVrpyiXSb_"
      },
      "source": [
        "Теперь построим графики для полученных коэффициентов"
      ]
    },
    {
      "cell_type": "code",
      "metadata": {
        "colab": {
          "base_uri": "https://localhost:8080/",
          "height": 287
        },
        "id": "LItp8CC9XR1p",
        "outputId": "62a3f5e7-1474-4255-b416-3de92c61e304"
      },
      "source": [
        "fig,ax = plt.subplots(2,4,figsize=(35,10))\n",
        "i=0\n",
        "print(w)\n",
        "for column,a in zip(x_cols, ax.reshape(-1)):\n",
        "  a.set(title = f'Зависимость Y от {column}' , ylabel = 'Y', xlabel = column)\n",
        "  '''a.scatter(data_base[column], data_base.y, color=(time.time()*9%0.99,time.time()*895%0.99,time.time()*95%0.99))'''\n",
        "  f = X[:,i:i+1] @ w[i]\n",
        "  a.plot(X[:,i], f)\n",
        "  i+=1\n",
        "\n",
        "ax[1,3].remove()"
      ],
      "execution_count": 50,
      "outputs": [
        {
          "output_type": "display_data",
          "data": {
            "image/png": "[encoded data removed]",
            "text/plain": [
              "<Figure size 2520x720 with 7 Axes>"
            ]
          },
          "metadata": {
            "tags": [],
            "needs_background": "light"
          }
        }
      ]
    },
    {
      "cell_type": "markdown",
      "metadata": {
        "id": "Vk1n-eODds0G"
      },
      "source": [
        "# Регрессия Y на X"
      ]
    },
    {
      "cell_type": "code",
      "metadata": {
        "colab": {
          "base_uri": "https://localhost:8080/",
          "height": 324
        },
        "id": "032JQJY-dxuI",
        "outputId": "2ce02996-8d39-4955-ca5f-2ab2b20683ee"
      },
      "source": [
        "fig,ax = plt.subplots(figsize=(10,5))\n",
        "\n"
      ],
      "execution_count": null,
      "outputs": [
        {
          "output_type": "display_data",
          "data": {
            "image/png": "[encoded data removed]",
            "text/plain": [
              "<Figure size 720x360 with 1 Axes>"
            ]
          },
          "metadata": {
            "tags": [],
            "needs_background": "light"
          }
        }
      ]
    },
    {
      "cell_type": "code",
      "metadata": {
        "id": "hB6N966Fiuwt"
      },
      "source": [
        ""
      ],
      "execution_count": null,
      "outputs": []
    }
  ]
}